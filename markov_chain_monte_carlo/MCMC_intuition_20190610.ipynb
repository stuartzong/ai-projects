{
 "cells": [
  {
   "cell_type": "markdown",
   "metadata": {},
   "source": [
    "Markov Chain, \n",
    "\n",
    "the next state only depends on current state, has nothing to do with how we arrived at current state. In another word, the history does not matter.the current state has all the information needed to predict the next state. the state can be anything. For example, if we are trying to decide a value which we know falls in a normal distribution, the current state can be just the value assigned to the variable. "
   ]
  },
  {
   "cell_type": "markdown",
   "metadata": {},
   "source": [
    "Monte Carlo,\n",
    "random sampling technique, use a randomly sampling technique to obtain a numerical answer.For example, if we are trying to find out the alpha and beta for a logistic function, we can not directly solve the two variables. but we can randomly sample the parameter space for alpha and beta for their respective distribution, and then to see if the sample values agree with the observed data. If agrees, accept the new values as new state. if doesn not agree with observed data, reject the values, remain at current state."
   ]
  },
  {
   "cell_type": "markdown",
   "metadata": {},
   "source": [
    "put markow chain and Monte Carlo together, we repeatly sample alpha and beta until convergence. the MCMC process can be thought of as a random walk to convergence. random walk to the true alpha and beta distribution. For example, if we model the sleep as a logistic function (sigmoid function) of time of the today,\n",
    "$$p(t) = \\frac{1}{ 1 + e^{\\;\\beta t + \\alpha} }$$\n",
    "we don't know what alpha and beta is. but we have observed data recording if i am sleeping at specific time of the day for the past a few months. then we can assume alpha and beta following normal distributions. we can use MCMC to repeatly draw random values from their repsective distribution to see if the logistic function with the drawn values model the observed data well. if yes, it means this alpha and beta can be reason values in their distribution. if not, the values are bad, not belong to their distribution and thus should be discarded. when we repeat this process for many times, we can get very good representations of the alpha distribution and beta distribution. so we can take the average of alpha and beta as the logistic parameters. \n",
    "\n",
    "i have a question about how the randomly drawn alpha and beta are evaluated in terms of if they agree with the observed data. do we use something like a loss function? It looks like it use an acceptance probability to decide if accepting or rejecting the proposal."
   ]
  }
 ],
 "metadata": {
  "kernelspec": {
   "display_name": "Python 3",
   "language": "python",
   "name": "python3"
  },
  "language_info": {
   "codemirror_mode": {
    "name": "ipython",
    "version": 3
   },
   "file_extension": ".py",
   "mimetype": "text/x-python",
   "name": "python",
   "nbconvert_exporter": "python",
   "pygments_lexer": "ipython3",
   "version": "3.6.7"
  }
 },
 "nbformat": 4,
 "nbformat_minor": 2
}
